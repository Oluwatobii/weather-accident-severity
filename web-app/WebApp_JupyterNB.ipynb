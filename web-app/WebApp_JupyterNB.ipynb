{
 "cells": [
  {
   "cell_type": "markdown",
   "metadata": {},
   "source": [
    "##### ML jupyter notebook\n",
    "##### This notebook is dedicated to my finding trends and analysis of accidents"
   ]
  },
  {
   "cell_type": "code",
   "execution_count": 1,
   "metadata": {},
   "outputs": [],
   "source": [
    "# importing the necessary libraries\n",
    "import pandas as pd\n",
    "import numpy as np\n",
    "import os"
   ]
  },
  {
   "cell_type": "code",
   "execution_count": 2,
   "metadata": {},
   "outputs": [
    {
     "name": "stdout",
     "output_type": "stream",
     "text": [
      ".git\n",
      ".ipynb_checkpoints\n",
      "Capstone.ipynb\n",
      "Data-Collisions.csv\n",
      "Location.ipynb\n",
      "README.md\n",
      "TestFile.txt\n",
      "US_Accidents_June20.csv\n",
      "WebApp_JupyterNB.ipynb\n"
     ]
    }
   ],
   "source": [
    "# see if we have the right file in working directory\n",
    "for files in os.listdir():\n",
    "    print(files)"
   ]
  },
  {
   "cell_type": "markdown",
   "metadata": {},
   "source": [
    "# Need to drop some columns cause of recurring memory issues\n",
    "#### \"Sunrise_Sunset\" shows the period of day (i.e day or night) based on sunrise/sunset.\n",
    "#### \"Visibility(mi)\" is being measured in miles"
   ]
  },
  {
   "cell_type": "code",
   "execution_count": 3,
   "metadata": {},
   "outputs": [],
   "source": [
    "# useful columns\n",
    "useful_colmns = [\"Source\", \"Severity\", \"Start_Time\", \"End_Time\", \"City\", \"County\", \"State\", \n",
    "              \"Visibility(mi)\", \"Weather_Condition\", \"Sunrise_Sunset\"]\n",
    "\n",
    "df = pd.read_csv(\"US_Accidents_June20.csv\", usecols=useful_colmns)"
   ]
  },
  {
   "cell_type": "code",
   "execution_count": 4,
   "metadata": {},
   "outputs": [
    {
     "data": {
      "text/html": [
       "<div>\n",
       "<style scoped>\n",
       "    .dataframe tbody tr th:only-of-type {\n",
       "        vertical-align: middle;\n",
       "    }\n",
       "\n",
       "    .dataframe tbody tr th {\n",
       "        vertical-align: top;\n",
       "    }\n",
       "\n",
       "    .dataframe thead th {\n",
       "        text-align: right;\n",
       "    }\n",
       "</style>\n",
       "<table border=\"1\" class=\"dataframe\">\n",
       "  <thead>\n",
       "    <tr style=\"text-align: right;\">\n",
       "      <th></th>\n",
       "      <th>Source</th>\n",
       "      <th>Severity</th>\n",
       "      <th>Start_Time</th>\n",
       "      <th>End_Time</th>\n",
       "      <th>City</th>\n",
       "      <th>County</th>\n",
       "      <th>State</th>\n",
       "      <th>Visibility</th>\n",
       "      <th>Weather_Condition</th>\n",
       "      <th>Sunrise_Sunset</th>\n",
       "    </tr>\n",
       "  </thead>\n",
       "  <tbody>\n",
       "    <tr>\n",
       "      <th>0</th>\n",
       "      <td>MapQuest</td>\n",
       "      <td>3</td>\n",
       "      <td>2016-02-08 05:46:00</td>\n",
       "      <td>2016-02-08 11:00:00</td>\n",
       "      <td>Dayton</td>\n",
       "      <td>Montgomery</td>\n",
       "      <td>OH</td>\n",
       "      <td>10.0</td>\n",
       "      <td>Light Rain</td>\n",
       "      <td>Night</td>\n",
       "    </tr>\n",
       "    <tr>\n",
       "      <th>1</th>\n",
       "      <td>MapQuest</td>\n",
       "      <td>2</td>\n",
       "      <td>2016-02-08 06:07:59</td>\n",
       "      <td>2016-02-08 06:37:59</td>\n",
       "      <td>Reynoldsburg</td>\n",
       "      <td>Franklin</td>\n",
       "      <td>OH</td>\n",
       "      <td>10.0</td>\n",
       "      <td>Light Rain</td>\n",
       "      <td>Night</td>\n",
       "    </tr>\n",
       "    <tr>\n",
       "      <th>2</th>\n",
       "      <td>MapQuest</td>\n",
       "      <td>2</td>\n",
       "      <td>2016-02-08 06:49:27</td>\n",
       "      <td>2016-02-08 07:19:27</td>\n",
       "      <td>Williamsburg</td>\n",
       "      <td>Clermont</td>\n",
       "      <td>OH</td>\n",
       "      <td>10.0</td>\n",
       "      <td>Overcast</td>\n",
       "      <td>Night</td>\n",
       "    </tr>\n",
       "    <tr>\n",
       "      <th>3</th>\n",
       "      <td>MapQuest</td>\n",
       "      <td>3</td>\n",
       "      <td>2016-02-08 07:23:34</td>\n",
       "      <td>2016-02-08 07:53:34</td>\n",
       "      <td>Dayton</td>\n",
       "      <td>Montgomery</td>\n",
       "      <td>OH</td>\n",
       "      <td>9.0</td>\n",
       "      <td>Mostly Cloudy</td>\n",
       "      <td>Night</td>\n",
       "    </tr>\n",
       "    <tr>\n",
       "      <th>4</th>\n",
       "      <td>MapQuest</td>\n",
       "      <td>2</td>\n",
       "      <td>2016-02-08 07:39:07</td>\n",
       "      <td>2016-02-08 08:09:07</td>\n",
       "      <td>Dayton</td>\n",
       "      <td>Montgomery</td>\n",
       "      <td>OH</td>\n",
       "      <td>6.0</td>\n",
       "      <td>Mostly Cloudy</td>\n",
       "      <td>Day</td>\n",
       "    </tr>\n",
       "    <tr>\n",
       "      <th>5</th>\n",
       "      <td>MapQuest</td>\n",
       "      <td>3</td>\n",
       "      <td>2016-02-08 07:44:26</td>\n",
       "      <td>2016-02-08 08:14:26</td>\n",
       "      <td>Westerville</td>\n",
       "      <td>Franklin</td>\n",
       "      <td>OH</td>\n",
       "      <td>7.0</td>\n",
       "      <td>Light Rain</td>\n",
       "      <td>Day</td>\n",
       "    </tr>\n",
       "    <tr>\n",
       "      <th>6</th>\n",
       "      <td>MapQuest</td>\n",
       "      <td>2</td>\n",
       "      <td>2016-02-08 07:59:35</td>\n",
       "      <td>2016-02-08 08:29:35</td>\n",
       "      <td>Dayton</td>\n",
       "      <td>Montgomery</td>\n",
       "      <td>OH</td>\n",
       "      <td>7.0</td>\n",
       "      <td>Overcast</td>\n",
       "      <td>Day</td>\n",
       "    </tr>\n",
       "    <tr>\n",
       "      <th>7</th>\n",
       "      <td>MapQuest</td>\n",
       "      <td>3</td>\n",
       "      <td>2016-02-08 07:59:58</td>\n",
       "      <td>2016-02-08 08:29:58</td>\n",
       "      <td>Dayton</td>\n",
       "      <td>Montgomery</td>\n",
       "      <td>OH</td>\n",
       "      <td>7.0</td>\n",
       "      <td>Overcast</td>\n",
       "      <td>Day</td>\n",
       "    </tr>\n",
       "    <tr>\n",
       "      <th>8</th>\n",
       "      <td>MapQuest</td>\n",
       "      <td>2</td>\n",
       "      <td>2016-02-08 08:00:40</td>\n",
       "      <td>2016-02-08 08:30:40</td>\n",
       "      <td>Dayton</td>\n",
       "      <td>Montgomery</td>\n",
       "      <td>OH</td>\n",
       "      <td>5.0</td>\n",
       "      <td>Mostly Cloudy</td>\n",
       "      <td>Day</td>\n",
       "    </tr>\n",
       "    <tr>\n",
       "      <th>9</th>\n",
       "      <td>MapQuest</td>\n",
       "      <td>3</td>\n",
       "      <td>2016-02-08 08:10:04</td>\n",
       "      <td>2016-02-08 08:40:04</td>\n",
       "      <td>Westerville</td>\n",
       "      <td>Franklin</td>\n",
       "      <td>OH</td>\n",
       "      <td>3.0</td>\n",
       "      <td>Light Rain</td>\n",
       "      <td>Day</td>\n",
       "    </tr>\n",
       "  </tbody>\n",
       "</table>\n",
       "</div>"
      ],
      "text/plain": [
       "     Source  Severity           Start_Time             End_Time          City  \\\n",
       "0  MapQuest         3  2016-02-08 05:46:00  2016-02-08 11:00:00        Dayton   \n",
       "1  MapQuest         2  2016-02-08 06:07:59  2016-02-08 06:37:59  Reynoldsburg   \n",
       "2  MapQuest         2  2016-02-08 06:49:27  2016-02-08 07:19:27  Williamsburg   \n",
       "3  MapQuest         3  2016-02-08 07:23:34  2016-02-08 07:53:34        Dayton   \n",
       "4  MapQuest         2  2016-02-08 07:39:07  2016-02-08 08:09:07        Dayton   \n",
       "5  MapQuest         3  2016-02-08 07:44:26  2016-02-08 08:14:26   Westerville   \n",
       "6  MapQuest         2  2016-02-08 07:59:35  2016-02-08 08:29:35        Dayton   \n",
       "7  MapQuest         3  2016-02-08 07:59:58  2016-02-08 08:29:58        Dayton   \n",
       "8  MapQuest         2  2016-02-08 08:00:40  2016-02-08 08:30:40        Dayton   \n",
       "9  MapQuest         3  2016-02-08 08:10:04  2016-02-08 08:40:04   Westerville   \n",
       "\n",
       "       County State  Visibility Weather_Condition Sunrise_Sunset  \n",
       "0  Montgomery    OH        10.0        Light Rain          Night  \n",
       "1    Franklin    OH        10.0        Light Rain          Night  \n",
       "2    Clermont    OH        10.0          Overcast          Night  \n",
       "3  Montgomery    OH         9.0     Mostly Cloudy          Night  \n",
       "4  Montgomery    OH         6.0     Mostly Cloudy            Day  \n",
       "5    Franklin    OH         7.0        Light Rain            Day  \n",
       "6  Montgomery    OH         7.0          Overcast            Day  \n",
       "7  Montgomery    OH         7.0          Overcast            Day  \n",
       "8  Montgomery    OH         5.0     Mostly Cloudy            Day  \n",
       "9    Franklin    OH         3.0        Light Rain            Day  "
      ]
     },
     "execution_count": 4,
     "metadata": {},
     "output_type": "execute_result"
    }
   ],
   "source": [
    "df.rename(columns={'Visibility(mi)': 'Visibility'}, inplace = True)\n",
    "df.head(10)"
   ]
  },
  {
   "cell_type": "markdown",
   "metadata": {},
   "source": [
    "#### The code below works for reading in chunks but I keep running into memory issues and TextToFileReader problems"
   ]
  },
  {
   "cell_type": "code",
   "execution_count": 9,
   "metadata": {},
   "outputs": [],
   "source": [
    "# The df contains up to 3.6 million of data \n",
    "# chunkSIZE = 500000 # we're reading our data in chunks because of how large our data set is\n",
    "# dataList = [] ## list to hold the chunks for concatenation \n",
    "\n",
    "# # for chunk in pd.read_csv(\"US_Accidents_June20.csv\", chunksize = chunkSIZE):\n",
    "# #     dataList.append(chunk)\n",
    "\n",
    "# # df = pd.concat(dataList, axis=0)\n",
    "# chunk1 = pd.read_csv(\"US_Accidents_June20.csv\", chunksize = 1000)"
   ]
  },
  {
   "cell_type": "markdown",
   "metadata": {},
   "source": [
    "#### We need to do some filtering and preprocessing to our data to get rid of redundant entries"
   ]
  },
  {
   "cell_type": "code",
   "execution_count": 5,
   "metadata": {},
   "outputs": [
    {
     "data": {
      "text/plain": [
       "(3513617, 10)"
      ]
     },
     "execution_count": 5,
     "metadata": {},
     "output_type": "execute_result"
    }
   ],
   "source": [
    "df.shape"
   ]
  },
  {
   "cell_type": "code",
   "execution_count": 6,
   "metadata": {},
   "outputs": [
    {
     "data": {
      "text/html": [
       "<div>\n",
       "<style scoped>\n",
       "    .dataframe tbody tr th:only-of-type {\n",
       "        vertical-align: middle;\n",
       "    }\n",
       "\n",
       "    .dataframe tbody tr th {\n",
       "        vertical-align: top;\n",
       "    }\n",
       "\n",
       "    .dataframe thead th {\n",
       "        text-align: right;\n",
       "    }\n",
       "</style>\n",
       "<table border=\"1\" class=\"dataframe\">\n",
       "  <thead>\n",
       "    <tr style=\"text-align: right;\">\n",
       "      <th></th>\n",
       "      <th>Source</th>\n",
       "      <th>Severity</th>\n",
       "      <th>Start_Time</th>\n",
       "      <th>End_Time</th>\n",
       "      <th>City</th>\n",
       "      <th>County</th>\n",
       "      <th>State</th>\n",
       "      <th>Visibility</th>\n",
       "      <th>Weather_Condition</th>\n",
       "      <th>Sunrise_Sunset</th>\n",
       "    </tr>\n",
       "  </thead>\n",
       "  <tbody>\n",
       "    <tr>\n",
       "      <th>0</th>\n",
       "      <td>False</td>\n",
       "      <td>False</td>\n",
       "      <td>False</td>\n",
       "      <td>False</td>\n",
       "      <td>False</td>\n",
       "      <td>False</td>\n",
       "      <td>False</td>\n",
       "      <td>False</td>\n",
       "      <td>False</td>\n",
       "      <td>False</td>\n",
       "    </tr>\n",
       "    <tr>\n",
       "      <th>1</th>\n",
       "      <td>False</td>\n",
       "      <td>False</td>\n",
       "      <td>False</td>\n",
       "      <td>False</td>\n",
       "      <td>False</td>\n",
       "      <td>False</td>\n",
       "      <td>False</td>\n",
       "      <td>False</td>\n",
       "      <td>False</td>\n",
       "      <td>False</td>\n",
       "    </tr>\n",
       "    <tr>\n",
       "      <th>2</th>\n",
       "      <td>False</td>\n",
       "      <td>False</td>\n",
       "      <td>False</td>\n",
       "      <td>False</td>\n",
       "      <td>False</td>\n",
       "      <td>False</td>\n",
       "      <td>False</td>\n",
       "      <td>False</td>\n",
       "      <td>False</td>\n",
       "      <td>False</td>\n",
       "    </tr>\n",
       "    <tr>\n",
       "      <th>3</th>\n",
       "      <td>False</td>\n",
       "      <td>False</td>\n",
       "      <td>False</td>\n",
       "      <td>False</td>\n",
       "      <td>False</td>\n",
       "      <td>False</td>\n",
       "      <td>False</td>\n",
       "      <td>False</td>\n",
       "      <td>False</td>\n",
       "      <td>False</td>\n",
       "    </tr>\n",
       "    <tr>\n",
       "      <th>4</th>\n",
       "      <td>False</td>\n",
       "      <td>False</td>\n",
       "      <td>False</td>\n",
       "      <td>False</td>\n",
       "      <td>False</td>\n",
       "      <td>False</td>\n",
       "      <td>False</td>\n",
       "      <td>False</td>\n",
       "      <td>False</td>\n",
       "      <td>False</td>\n",
       "    </tr>\n",
       "    <tr>\n",
       "      <th>5</th>\n",
       "      <td>False</td>\n",
       "      <td>False</td>\n",
       "      <td>False</td>\n",
       "      <td>False</td>\n",
       "      <td>False</td>\n",
       "      <td>False</td>\n",
       "      <td>False</td>\n",
       "      <td>False</td>\n",
       "      <td>False</td>\n",
       "      <td>False</td>\n",
       "    </tr>\n",
       "    <tr>\n",
       "      <th>6</th>\n",
       "      <td>False</td>\n",
       "      <td>False</td>\n",
       "      <td>False</td>\n",
       "      <td>False</td>\n",
       "      <td>False</td>\n",
       "      <td>False</td>\n",
       "      <td>False</td>\n",
       "      <td>False</td>\n",
       "      <td>False</td>\n",
       "      <td>False</td>\n",
       "    </tr>\n",
       "    <tr>\n",
       "      <th>7</th>\n",
       "      <td>False</td>\n",
       "      <td>False</td>\n",
       "      <td>False</td>\n",
       "      <td>False</td>\n",
       "      <td>False</td>\n",
       "      <td>False</td>\n",
       "      <td>False</td>\n",
       "      <td>False</td>\n",
       "      <td>False</td>\n",
       "      <td>False</td>\n",
       "    </tr>\n",
       "    <tr>\n",
       "      <th>8</th>\n",
       "      <td>False</td>\n",
       "      <td>False</td>\n",
       "      <td>False</td>\n",
       "      <td>False</td>\n",
       "      <td>False</td>\n",
       "      <td>False</td>\n",
       "      <td>False</td>\n",
       "      <td>False</td>\n",
       "      <td>False</td>\n",
       "      <td>False</td>\n",
       "    </tr>\n",
       "    <tr>\n",
       "      <th>9</th>\n",
       "      <td>False</td>\n",
       "      <td>False</td>\n",
       "      <td>False</td>\n",
       "      <td>False</td>\n",
       "      <td>False</td>\n",
       "      <td>False</td>\n",
       "      <td>False</td>\n",
       "      <td>False</td>\n",
       "      <td>False</td>\n",
       "      <td>False</td>\n",
       "    </tr>\n",
       "  </tbody>\n",
       "</table>\n",
       "</div>"
      ],
      "text/plain": [
       "   Source  Severity  Start_Time  End_Time   City  County  State  Visibility  \\\n",
       "0   False     False       False     False  False   False  False       False   \n",
       "1   False     False       False     False  False   False  False       False   \n",
       "2   False     False       False     False  False   False  False       False   \n",
       "3   False     False       False     False  False   False  False       False   \n",
       "4   False     False       False     False  False   False  False       False   \n",
       "5   False     False       False     False  False   False  False       False   \n",
       "6   False     False       False     False  False   False  False       False   \n",
       "7   False     False       False     False  False   False  False       False   \n",
       "8   False     False       False     False  False   False  False       False   \n",
       "9   False     False       False     False  False   False  False       False   \n",
       "\n",
       "   Weather_Condition  Sunrise_Sunset  \n",
       "0              False           False  \n",
       "1              False           False  \n",
       "2              False           False  \n",
       "3              False           False  \n",
       "4              False           False  \n",
       "5              False           False  \n",
       "6              False           False  \n",
       "7              False           False  \n",
       "8              False           False  \n",
       "9              False           False  "
      ]
     },
     "execution_count": 6,
     "metadata": {},
     "output_type": "execute_result"
    }
   ],
   "source": [
    "# Steps in dealing with missing data values\n",
    "missing_data = df.isnull()\n",
    "missing_data.head(10) ## checking the tail to see if any data is missing"
   ]
  },
  {
   "cell_type": "code",
   "execution_count": 8,
   "metadata": {},
   "outputs": [
    {
     "name": "stdout",
     "output_type": "stream",
     "text": [
      "Source\n",
      "False    3513617\n",
      "Name: Source, dtype: int64\n",
      "\n",
      "Severity\n",
      "False    3513617\n",
      "Name: Severity, dtype: int64\n",
      "\n",
      "Start_Time\n",
      "False    3513617\n",
      "Name: Start_Time, dtype: int64\n",
      "\n",
      "End_Time\n",
      "False    3513617\n",
      "Name: End_Time, dtype: int64\n",
      "\n",
      "City\n",
      "False    3513505\n",
      "True         112\n",
      "Name: City, dtype: int64\n",
      "\n",
      "County\n",
      "False    3513617\n",
      "Name: County, dtype: int64\n",
      "\n",
      "State\n",
      "False    3513617\n",
      "Name: State, dtype: int64\n",
      "\n",
      "Visibility\n",
      "False    3437761\n",
      "True       75856\n",
      "Name: Visibility, dtype: int64\n",
      "\n",
      "Weather_Condition\n",
      "False    3437479\n",
      "True       76138\n",
      "Name: Weather_Condition, dtype: int64\n",
      "\n",
      "Sunrise_Sunset\n",
      "False    3513502\n",
      "True         115\n",
      "Name: Sunrise_Sunset, dtype: int64\n",
      "\n"
     ]
    }
   ],
   "source": [
    "# for each column in the df, we wanna look through to find any missing data\n",
    "for column in missing_data.columns.values.tolist():\n",
    "    print(column)\n",
    "    print(missing_data[column].value_counts())\n",
    "    print(\"\")"
   ]
  },
  {
   "cell_type": "markdown",
   "metadata": {},
   "source": [
    "Based on the output above, ONLY 4 columns containmissing data including\n",
    "City, Visibility(mi), Weather_Condition, Sunrise_Sunset\n",
    "\n",
    "## Deal with missing data\n",
    "\n",
    "##### How to deal with missing data?\n",
    " ###### 1. drop data\n",
    "   a) drop the whole row\n",
    "   b) drop the whole column\n",
    " ###### 2. replace data\n",
    "   a) replace it by mean\n",
    "   b) replace it by frequency\n",
    "   c) replace it based on other functions\n",
    "   \n",
    "##### Replace by mean\n",
    "##### Replace by frequency\n",
    "##### Drop the whole row"
   ]
  },
  {
   "cell_type": "code",
   "execution_count": 9,
   "metadata": {},
   "outputs": [
    {
     "data": {
      "text/plain": [
       "Houston                101240\n",
       "Los Angeles             79169\n",
       "Charlotte               78952\n",
       "Dallas                  64790\n",
       "Austin                  63889\n",
       "                        ...  \n",
       "Cat Spring                  1\n",
       "Union Park                  1\n",
       "Bridgewater Corners         1\n",
       "Wentworths Location         1\n",
       "Westmorland                 1\n",
       "Name: City, Length: 11895, dtype: int64"
      ]
     },
     "execution_count": 9,
     "metadata": {},
     "output_type": "execute_result"
    }
   ],
   "source": [
    "# Replace by frequency for City column\n",
    "df['City'].value_counts()"
   ]
  },
  {
   "cell_type": "code",
   "execution_count": 10,
   "metadata": {},
   "outputs": [
    {
     "data": {
      "text/plain": [
       "'Houston'"
      ]
     },
     "execution_count": 10,
     "metadata": {},
     "output_type": "execute_result"
    }
   ],
   "source": [
    "df['City'].value_counts().idxmax()"
   ]
  },
  {
   "cell_type": "markdown",
   "metadata": {},
   "source": [
    "#### Since \"Houston\" has the most occurence for the City column, we replace 112 missing data with \"Houston\"\n",
    "making the new total for \"Houston\" 101352"
   ]
  },
  {
   "cell_type": "code",
   "execution_count": 11,
   "metadata": {},
   "outputs": [],
   "source": [
    "# replace the missing 'City' values by the most frequent \n",
    "df[\"City\"].replace(np.nan, \"Houston\", inplace=True)"
   ]
  },
  {
   "cell_type": "code",
   "execution_count": 12,
   "metadata": {},
   "outputs": [
    {
     "data": {
      "text/plain": [
       "Houston                101352\n",
       "Los Angeles             79169\n",
       "Charlotte               78952\n",
       "Dallas                  64790\n",
       "Austin                  63889\n",
       "                        ...  \n",
       "Cat Spring                  1\n",
       "Union Park                  1\n",
       "Bridgewater Corners         1\n",
       "Wentworths Location         1\n",
       "Westmorland                 1\n",
       "Name: City, Length: 11895, dtype: int64"
      ]
     },
     "execution_count": 12,
     "metadata": {},
     "output_type": "execute_result"
    }
   ],
   "source": [
    "df['City'].value_counts()"
   ]
  },
  {
   "cell_type": "markdown",
   "metadata": {},
   "source": [
    "<h4>Calculate the mean value for the  'Visibility' column:</h4>"
   ]
  },
  {
   "cell_type": "code",
   "execution_count": 13,
   "metadata": {},
   "outputs": [
    {
     "name": "stdout",
     "output_type": "stream",
     "text": [
      "Average Visibility: 9.122644290862572\n"
     ]
    }
   ],
   "source": [
    "avg_Visibility = df['Visibility'].astype('float').mean(axis=0)\n",
    "print(\"Average Visibility:\", avg_Visibility)"
   ]
  },
  {
   "cell_type": "markdown",
   "metadata": {},
   "source": [
    "<h4>Replace \"NaN\" by mean value:</h4>"
   ]
  },
  {
   "cell_type": "code",
   "execution_count": 14,
   "metadata": {},
   "outputs": [],
   "source": [
    "df['Visibility'].replace(np.nan, avg_Visibility, inplace=True)"
   ]
  },
  {
   "cell_type": "markdown",
   "metadata": {},
   "source": [
    "##### Checking if preprocessing has updated in our original dataframe"
   ]
  },
  {
   "cell_type": "code",
   "execution_count": 15,
   "metadata": {},
   "outputs": [
    {
     "name": "stdout",
     "output_type": "stream",
     "text": [
      "Source\n",
      "False    3513617\n",
      "Name: Source, dtype: int64\n",
      "\n",
      "Severity\n",
      "False    3513617\n",
      "Name: Severity, dtype: int64\n",
      "\n",
      "Start_Time\n",
      "False    3513617\n",
      "Name: Start_Time, dtype: int64\n",
      "\n",
      "End_Time\n",
      "False    3513617\n",
      "Name: End_Time, dtype: int64\n",
      "\n",
      "City\n",
      "False    3513617\n",
      "Name: City, dtype: int64\n",
      "\n",
      "County\n",
      "False    3513617\n",
      "Name: County, dtype: int64\n",
      "\n",
      "State\n",
      "False    3513617\n",
      "Name: State, dtype: int64\n",
      "\n",
      "Visibility\n",
      "False    3513617\n",
      "Name: Visibility, dtype: int64\n",
      "\n",
      "Weather_Condition\n",
      "False    3437479\n",
      "True       76138\n",
      "Name: Weather_Condition, dtype: int64\n",
      "\n",
      "Sunrise_Sunset\n",
      "False    3513502\n",
      "True         115\n",
      "Name: Sunrise_Sunset, dtype: int64\n",
      "\n"
     ]
    }
   ],
   "source": [
    "missing_data2 = df.isnull()\n",
    "for column in missing_data2.columns.values.tolist():\n",
    "    print(column)\n",
    "    print(missing_data2[column].value_counts())\n",
    "    print(\"\")"
   ]
  },
  {
   "cell_type": "code",
   "execution_count": 16,
   "metadata": {},
   "outputs": [
    {
     "data": {
      "text/plain": [
       "Clear                        808202\n",
       "Fair                         547721\n",
       "Mostly Cloudy                488094\n",
       "Overcast                     382485\n",
       "Partly Cloudy                344815\n",
       "                              ...  \n",
       "Drifting Snow                     1\n",
       "Freezing Rain / Windy             1\n",
       "Thunder and Hail                  1\n",
       "Sand / Dust Whirls Nearby         1\n",
       "Freezing Drizzle                  1\n",
       "Name: Weather_Condition, Length: 127, dtype: int64"
      ]
     },
     "execution_count": 16,
     "metadata": {},
     "output_type": "execute_result"
    }
   ],
   "source": [
    "# Replace by frequency for Weather_Condition column\n",
    "df['Weather_Condition'].value_counts()"
   ]
  },
  {
   "cell_type": "markdown",
   "metadata": {},
   "source": [
    "#### Since \"Clear\" has the most occurence for the Weather_Condition column, we replace 76138 missing data with \"Clear\"\n",
    "making the new total for \"Clear\" 884340"
   ]
  },
  {
   "cell_type": "code",
   "execution_count": 17,
   "metadata": {},
   "outputs": [
    {
     "data": {
      "text/plain": [
       "'Clear'"
      ]
     },
     "execution_count": 17,
     "metadata": {},
     "output_type": "execute_result"
    }
   ],
   "source": [
    "df['Weather_Condition'].value_counts().idxmax()"
   ]
  },
  {
   "cell_type": "code",
   "execution_count": 18,
   "metadata": {},
   "outputs": [],
   "source": [
    "# replace the missing 'City' values by the most frequent \n",
    "df[\"Weather_Condition\"].replace(np.nan, \"Clear\", inplace=True)"
   ]
  },
  {
   "cell_type": "code",
   "execution_count": 19,
   "metadata": {},
   "outputs": [
    {
     "data": {
      "text/plain": [
       "Clear                        884340\n",
       "Fair                         547721\n",
       "Mostly Cloudy                488094\n",
       "Overcast                     382485\n",
       "Partly Cloudy                344815\n",
       "                              ...  \n",
       "Drifting Snow                     1\n",
       "Freezing Rain / Windy             1\n",
       "Thunder and Hail                  1\n",
       "Sand / Dust Whirls Nearby         1\n",
       "Freezing Drizzle                  1\n",
       "Name: Weather_Condition, Length: 127, dtype: int64"
      ]
     },
     "execution_count": 19,
     "metadata": {},
     "output_type": "execute_result"
    }
   ],
   "source": [
    "df['Weather_Condition'].value_counts()"
   ]
  },
  {
   "cell_type": "code",
   "execution_count": 20,
   "metadata": {},
   "outputs": [
    {
     "data": {
      "text/plain": [
       "'Day'"
      ]
     },
     "execution_count": 20,
     "metadata": {},
     "output_type": "execute_result"
    }
   ],
   "source": [
    "# replace Sunrise/Sunset column with the most occuring between \"Night\" and \"Day\"\n",
    "df['Sunrise_Sunset'].value_counts().idxmax()"
   ]
  },
  {
   "cell_type": "code",
   "execution_count": 21,
   "metadata": {},
   "outputs": [],
   "source": [
    "# replace the missing 'NAN' values by the Day \n",
    "df[\"Sunrise_Sunset\"].replace(np.nan, \"Day\", inplace=True)"
   ]
  },
  {
   "cell_type": "code",
   "execution_count": 22,
   "metadata": {},
   "outputs": [
    {
     "name": "stdout",
     "output_type": "stream",
     "text": [
      "Source\n",
      "False    3513617\n",
      "Name: Source, dtype: int64\n",
      "\n",
      "Severity\n",
      "False    3513617\n",
      "Name: Severity, dtype: int64\n",
      "\n",
      "Start_Time\n",
      "False    3513617\n",
      "Name: Start_Time, dtype: int64\n",
      "\n",
      "End_Time\n",
      "False    3513617\n",
      "Name: End_Time, dtype: int64\n",
      "\n",
      "City\n",
      "False    3513617\n",
      "Name: City, dtype: int64\n",
      "\n",
      "County\n",
      "False    3513617\n",
      "Name: County, dtype: int64\n",
      "\n",
      "State\n",
      "False    3513617\n",
      "Name: State, dtype: int64\n",
      "\n",
      "Visibility\n",
      "False    3513617\n",
      "Name: Visibility, dtype: int64\n",
      "\n",
      "Weather_Condition\n",
      "False    3513617\n",
      "Name: Weather_Condition, dtype: int64\n",
      "\n",
      "Sunrise_Sunset\n",
      "False    3513617\n",
      "Name: Sunrise_Sunset, dtype: int64\n",
      "\n"
     ]
    }
   ],
   "source": [
    "missing_data3 = df.isnull()\n",
    "for column in missing_data3.columns.values.tolist():\n",
    "    print(column)\n",
    "    print(missing_data3[column].value_counts())\n",
    "    print(\"\")"
   ]
  },
  {
   "cell_type": "markdown",
   "metadata": {},
   "source": [
    "## At this point in the script, all the NAN values have wither been replaced by most occuring or average values of the column in question"
   ]
  },
  {
   "cell_type": "code",
   "execution_count": 27,
   "metadata": {},
   "outputs": [
    {
     "data": {
      "text/plain": [
       "(3513617, 10)"
      ]
     },
     "execution_count": 27,
     "metadata": {},
     "output_type": "execute_result"
    }
   ],
   "source": [
    "df.head(5)\n",
    "df.shape"
   ]
  },
  {
   "cell_type": "code",
   "execution_count": 26,
   "metadata": {},
   "outputs": [],
   "source": [
    "df.to_csv('Output.csv', index=True)"
   ]
  },
  {
   "cell_type": "code",
   "execution_count": null,
   "metadata": {},
   "outputs": [],
   "source": []
  }
 ],
 "metadata": {
  "kernelspec": {
   "display_name": "Python 3",
   "language": "python",
   "name": "python3"
  },
  "language_info": {
   "codemirror_mode": {
    "name": "ipython",
    "version": 3
   },
   "file_extension": ".py",
   "mimetype": "text/x-python",
   "name": "python",
   "nbconvert_exporter": "python",
   "pygments_lexer": "ipython3",
   "version": "3.8.5"
  }
 },
 "nbformat": 4,
 "nbformat_minor": 4
}
